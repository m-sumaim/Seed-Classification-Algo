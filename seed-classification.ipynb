{
  "nbformat": 4,
  "nbformat_minor": 0,
  "metadata": {
    "colab": {
      "provenance": []
    },
    "kernelspec": {
      "name": "python3",
      "display_name": "Python 3"
    },
    "language_info": {
      "name": "python"
    }
  },
  "cells": [
    {
      "cell_type": "code",
      "execution_count": 1,
      "metadata": {
        "id": "hjvUTZMn9iiX"
      },
      "outputs": [],
      "source": [
        "import zipfile\n",
        "import os"
      ]
    },
    {
      "cell_type": "code",
      "source": [
        "!wget --no-check-certificate \\\n",
        "    \"https://github.com/m-sumaim/corn_seed_dataset/archive/refs/heads/main.zip\" \\\n",
        "    -O \"/tmp/seed_class.zip\"\n",
        "\n",
        "\n",
        "zip_ref = zipfile.ZipFile('/tmp/seed_class.zip', 'r') #Opens the zip file in read mode\n",
        "zip_ref.extractall('/tmp') #Extracts the files into the /tmp folder\n",
        "zip_ref.close()"
      ],
      "metadata": {
        "id": "spodQCMv__u3",
        "colab": {
          "base_uri": "https://localhost:8080/"
        },
        "outputId": "46ce14da-04a8-43e5-ab20-93c7bd1b4ea6"
      },
      "execution_count": 8,
      "outputs": [
        {
          "output_type": "stream",
          "name": "stdout",
          "text": [
            "--2023-08-24 06:04:56--  https://github.com/m-sumaim/corn_seed_dataset/archive/refs/heads/main.zip\n",
            "Resolving github.com (github.com)... 20.27.177.113\n",
            "Connecting to github.com (github.com)|20.27.177.113|:443... connected.\n",
            "HTTP request sent, awaiting response... 302 Found\n",
            "Location: https://codeload.github.com/m-sumaim/corn_seed_dataset/zip/refs/heads/main [following]\n",
            "--2023-08-24 06:04:57--  https://codeload.github.com/m-sumaim/corn_seed_dataset/zip/refs/heads/main\n",
            "Resolving codeload.github.com (codeload.github.com)... 20.27.177.114\n",
            "Connecting to codeload.github.com (codeload.github.com)|20.27.177.114|:443... connected.\n",
            "HTTP request sent, awaiting response... 200 OK\n",
            "Length: unspecified [application/zip]\n",
            "Saving to: ‘/tmp/seed_class.zip’\n",
            "\n",
            "/tmp/seed_class.zip     [        <=>         ] 491.66M  26.2MB/s    in 19s     \n",
            "\n",
            "2023-08-24 06:05:16 (25.9 MB/s) - ‘/tmp/seed_class.zip’ saved [515546839]\n",
            "\n"
          ]
        }
      ]
    },
    {
      "cell_type": "code",
      "source": [
        "import tensorflow as tf\n",
        "from tensorflow.keras.preprocessing.image import ImageDataGenerator\n",
        "from tensorflow.keras.preprocessing import image\n",
        "#from PIL import Image as image\n",
        "import numpy as np\n",
        "\n",
        "# Set the directories for the training and testing data\n",
        "train_dir = '/tmp/corn_seed_dataset-main/train'\n",
        "test_dir = '/tmp/corn_seed_dataset-main/validation'\n",
        "\n",
        "# Create an ImageDataGenerator for the training data with data augmentation\n",
        "train_datagen = ImageDataGenerator(\n",
        "    rescale=1./255,\n",
        "    rotation_range=40,\n",
        "    width_shift_range=0.2,\n",
        "    height_shift_range=0.2,\n",
        "    shear_range=0.2,\n",
        "    zoom_range=0.2,\n",
        "    horizontal_flip=True,\n",
        "    fill_mode='nearest')\n",
        "\n",
        "# Create an ImageDataGenerator for the testing data without data augmentation\n",
        "test_datagen = ImageDataGenerator(rescale=1./255)\n",
        "\n",
        "# Create a train generator that generates batches of augmented images from the training data\n",
        "train_generator = train_datagen.flow_from_directory(\n",
        "    train_dir,\n",
        "    target_size=(150, 150),\n",
        "    batch_size=32,\n",
        "    class_mode='categorical')\n",
        "\n",
        "# Create a test generator that generates batches of images from the testing data\n",
        "test_generator = test_datagen.flow_from_directory(\n",
        "    test_dir,\n",
        "    target_size=(150, 150),\n",
        "    batch_size=32,\n",
        "    class_mode='categorical')\n",
        "\n",
        "# Build the CNN model\n",
        "model = tf.keras.models.Sequential([\n",
        "    tf.keras.layers.Conv2D(32, (3, 3), activation='relu', input_shape=(150, 150, 3)),\n",
        "    tf.keras.layers.MaxPooling2D(2, 2),\n",
        "    tf.keras.layers.Conv2D(64, (3, 3), activation='relu'),\n",
        "    tf.keras.layers.MaxPooling2D(2, 2),\n",
        "    tf.keras.layers.Conv2D(128, (3, 3), activation='relu'),\n",
        "    tf.keras.layers.MaxPooling2D(2, 2),\n",
        "    tf.keras.layers.Flatten(),\n",
        "    tf.keras.layers.Dense(512, activation='relu'),\n",
        "    tf.keras.layers.Dense(4, activation='softmax')\n",
        "])\n",
        "\n",
        "# Compile the model\n",
        "model.compile(loss='categorical_crossentropy',\n",
        "              optimizer=tf.keras.optimizers.RMSprop(learning_rate=1e-4),\n",
        "              metrics=['accuracy'])\n",
        "\n",
        "# Train the model\n",
        "history = model.fit(train_generator,\n",
        "                    epochs=10,\n",
        "                    validation_data=test_generator)\n",
        "\n",
        "# Save the trained model\n",
        "model.save('corn_seed_classifier.h5')\n",
        "\n",
        "# Load the trained model\n",
        "model = tf.keras.models.load_model('corn_seed_classifier.h5')\n",
        "\n",
        "def predict_image(image_path):\n",
        "    # Load the image and resize it to the required size\n",
        "    img = image.load_img(image_path, target_size=(150, 150))\n",
        "\n",
        "    # Convert the image to a numpy array and normalize it\n",
        "    x = image.img_to_array(img)\n",
        "    x = x / 255.0\n",
        "\n",
        "    # Add a new axis to create a batch of size 1\n",
        "    x = np.expand_dims(x, axis=0)\n",
        "\n",
        "    # Make a prediction on the image\n",
        "    predictions = model.predict(x)\n",
        "\n",
        "    # Get the index of the class with the highest probability\n",
        "    class_index = np.argmax(predictions[0])\n",
        "\n",
        "    # Get the name of the class from the class index\n",
        "    class_names = ['Broken', 'Discolored', 'Pure', 'Silkcut']\n",
        "    predicted_class_name = class_names[class_index]\n",
        "\n",
        "    # Get the probability of the predicted class\n",
        "    class_probability = predictions[0][class_index]\n",
        "\n",
        "    return predicted_class_name, class_probability\n",
        "\n",
        "# Make a prediction on the image\n",
        "image_path = '/home/test_image.png'\n",
        "predicted_class_name, class_probability = predict_image(image_path)\n",
        "\n",
        "# Print the predicted class and its probability\n",
        "print(f'The predicted class is: {predicted_class_name}')\n",
        "print(f'The probability of the predicted class is: {class_probability:.2f}')\n"
      ],
      "metadata": {
        "colab": {
          "base_uri": "https://localhost:8080/"
        },
        "id": "GeaZinqrBxO5",
        "outputId": "ad41dd2b-7c93-40ed-d905-ea795468c3ef"
      },
      "execution_count": 9,
      "outputs": [
        {
          "output_type": "stream",
          "name": "stdout",
          "text": [
            "Found 14322 images belonging to 4 classes.\n",
            "Found 3474 images belonging to 4 classes.\n",
            "Epoch 1/10\n",
            "448/448 [==============================] - 1021s 2s/step - loss: 1.2532 - accuracy: 0.4120 - val_loss: 1.2282 - val_accuracy: 0.4067\n",
            "Epoch 2/10\n",
            "448/448 [==============================] - 1015s 2s/step - loss: 1.1886 - accuracy: 0.4654 - val_loss: 1.1472 - val_accuracy: 0.4790\n",
            "Epoch 3/10\n",
            "448/448 [==============================] - 976s 2s/step - loss: 1.1358 - accuracy: 0.4979 - val_loss: 1.1193 - val_accuracy: 0.4954\n",
            "Epoch 4/10\n",
            "448/448 [==============================] - 939s 2s/step - loss: 1.1155 - accuracy: 0.5166 - val_loss: 1.0534 - val_accuracy: 0.5328\n",
            "Epoch 5/10\n",
            "448/448 [==============================] - 967s 2s/step - loss: 1.0914 - accuracy: 0.5244 - val_loss: 1.0506 - val_accuracy: 0.5348\n",
            "Epoch 6/10\n",
            "448/448 [==============================] - 939s 2s/step - loss: 1.0775 - accuracy: 0.5340 - val_loss: 1.1342 - val_accuracy: 0.4859\n",
            "Epoch 7/10\n",
            "448/448 [==============================] - 931s 2s/step - loss: 1.0612 - accuracy: 0.5408 - val_loss: 1.0563 - val_accuracy: 0.5299\n",
            "Epoch 8/10\n",
            "448/448 [==============================] - 896s 2s/step - loss: 1.0515 - accuracy: 0.5450 - val_loss: 1.0611 - val_accuracy: 0.5184\n",
            "Epoch 9/10\n",
            "448/448 [==============================] - 935s 2s/step - loss: 1.0333 - accuracy: 0.5528 - val_loss: 1.0017 - val_accuracy: 0.5651\n",
            "Epoch 10/10\n",
            "448/448 [==============================] - 922s 2s/step - loss: 1.0211 - accuracy: 0.5575 - val_loss: 1.0106 - val_accuracy: 0.5486\n",
            "1/1 [==============================] - 0s 183ms/step\n",
            "The predicted class is: Pure\n",
            "The probability of the predicted class is: 0.36\n"
          ]
        }
      ]
    },
    {
      "cell_type": "code",
      "source": [
        "image_path = '/home/broken_test.png'\n",
        "predicted_class_name, class_probability = predict_image(image_path)\n",
        "\n",
        "# Print the predicted class and its probability\n",
        "print(f'The predicted class is: {predicted_class_name}')\n",
        "print(f'The probability of the predicted class is: {class_probability:.2f}')\n"
      ],
      "metadata": {
        "colab": {
          "base_uri": "https://localhost:8080/"
        },
        "id": "E4oe4IqcH2Ku",
        "outputId": "986fc3a4-e8dc-4b4a-b729-85e257d43b7f"
      },
      "execution_count": 12,
      "outputs": [
        {
          "output_type": "stream",
          "name": "stdout",
          "text": [
            "1/1 [==============================] - 0s 60ms/step\n",
            "The predicted class is: Discolored\n",
            "The probability of the predicted class is: 0.61\n"
          ]
        }
      ]
    },
    {
      "cell_type": "code",
      "source": [
        "from google.colab import files\n",
        "\n",
        "files.download(\"corn_seed_classifier.h5\")"
      ],
      "metadata": {
        "colab": {
          "base_uri": "https://localhost:8080/",
          "height": 17
        },
        "id": "sy8VwpfTCc3K",
        "outputId": "890e8363-a3c5-41e3-8135-0168191e8eab"
      },
      "execution_count": 14,
      "outputs": [
        {
          "output_type": "display_data",
          "data": {
            "text/plain": [
              "<IPython.core.display.Javascript object>"
            ],
            "application/javascript": [
              "\n",
              "    async function download(id, filename, size) {\n",
              "      if (!google.colab.kernel.accessAllowed) {\n",
              "        return;\n",
              "      }\n",
              "      const div = document.createElement('div');\n",
              "      const label = document.createElement('label');\n",
              "      label.textContent = `Downloading \"${filename}\": `;\n",
              "      div.appendChild(label);\n",
              "      const progress = document.createElement('progress');\n",
              "      progress.max = size;\n",
              "      div.appendChild(progress);\n",
              "      document.body.appendChild(div);\n",
              "\n",
              "      const buffers = [];\n",
              "      let downloaded = 0;\n",
              "\n",
              "      const channel = await google.colab.kernel.comms.open(id);\n",
              "      // Send a message to notify the kernel that we're ready.\n",
              "      channel.send({})\n",
              "\n",
              "      for await (const message of channel.messages) {\n",
              "        // Send a message to notify the kernel that we're ready.\n",
              "        channel.send({})\n",
              "        if (message.buffers) {\n",
              "          for (const buffer of message.buffers) {\n",
              "            buffers.push(buffer);\n",
              "            downloaded += buffer.byteLength;\n",
              "            progress.value = downloaded;\n",
              "          }\n",
              "        }\n",
              "      }\n",
              "      const blob = new Blob(buffers, {type: 'application/binary'});\n",
              "      const a = document.createElement('a');\n",
              "      a.href = window.URL.createObjectURL(blob);\n",
              "      a.download = filename;\n",
              "      div.appendChild(a);\n",
              "      a.click();\n",
              "      div.remove();\n",
              "    }\n",
              "  "
            ]
          },
          "metadata": {}
        },
        {
          "output_type": "display_data",
          "data": {
            "text/plain": [
              "<IPython.core.display.Javascript object>"
            ],
            "application/javascript": [
              "download(\"download_9805e4e2-1bdd-4e84-9487-77ee0456aac6\", \"corn_seed_classifier.h5\", 152328456)"
            ]
          },
          "metadata": {}
        }
      ]
    },
    {
      "cell_type": "code",
      "source": [
        "pip install gradio"
      ],
      "metadata": {
        "id": "eP642n9EW0kq"
      },
      "execution_count": null,
      "outputs": []
    },
    {
      "cell_type": "code",
      "source": [
        "import gradio as gr\n",
        "import tensorflow as tf\n",
        "\n",
        "model = tf.keras.models.load_model('/content/corn_seed_classifier.h5')\n",
        "labels = ['Pure', 'Broken', 'Silkcut', 'Discolored']\n",
        "no_classes = len(labels)\n",
        "\n",
        "def classify_img(inp):\n",
        "    inp = inp.reshape((-1, 224, 224, 3))\n",
        "    inp = tf.keras.applications.inception_v3.preprocess_input(inp)\n",
        "    prediction = model.predict(inp).flatten()\n",
        "    return {labels[i]: float(prediction[i]) for i in range(no_classes)}\n",
        "\n",
        "image = gr.inputs.Image(shape=(224, 224))\n",
        "label = gr.outputs.Label(num_top_classes=4)\n",
        "\n",
        "gr.Interface(fn=classify_img, inputs=image, outputs=label, interpretation=\"default\").launch(share=True)\n"
      ],
      "metadata": {
        "colab": {
          "base_uri": "https://localhost:8080/",
          "height": 749
        },
        "id": "weqRb38RcviG",
        "outputId": "4eb2f4eb-d018-4a5c-f78f-f2808c4f7f08"
      },
      "execution_count": 22,
      "outputs": [
        {
          "output_type": "stream",
          "name": "stderr",
          "text": [
            "<ipython-input-22-35861a9b1f88>:14: GradioDeprecationWarning: Usage of gradio.inputs is deprecated, and will not be supported in the future, please import your component from gradio.components\n",
            "  image = gr.inputs.Image(shape=(224, 224))\n",
            "<ipython-input-22-35861a9b1f88>:14: GradioDeprecationWarning: `optional` parameter is deprecated, and it has no effect\n",
            "  image = gr.inputs.Image(shape=(224, 224))\n",
            "<ipython-input-22-35861a9b1f88>:15: GradioDeprecationWarning: Usage of gradio.outputs is deprecated, and will not be supported in the future, please import your components from gradio.components\n",
            "  label = gr.outputs.Label(num_top_classes=4)\n",
            "<ipython-input-22-35861a9b1f88>:15: GradioUnusedKwargWarning: You have unused kwarg parameters in Label, please remove them: {'type': 'auto'}\n",
            "  label = gr.outputs.Label(num_top_classes=4)\n"
          ]
        },
        {
          "output_type": "stream",
          "name": "stdout",
          "text": [
            "Colab notebook detected. To show errors in colab notebook, set debug=True in launch()\n",
            "Running on public URL: https://16dcb5ea49b23b6608.gradio.live\n",
            "\n",
            "This share link expires in 72 hours. For free permanent hosting and GPU upgrades, run `gradio deploy` from Terminal to deploy to Spaces (https://huggingface.co/spaces)\n"
          ]
        },
        {
          "output_type": "display_data",
          "data": {
            "text/plain": [
              "<IPython.core.display.HTML object>"
            ],
            "text/html": [
              "<div><iframe src=\"https://16dcb5ea49b23b6608.gradio.live\" width=\"100%\" height=\"500\" allow=\"autoplay; camera; microphone; clipboard-read; clipboard-write;\" frameborder=\"0\" allowfullscreen></iframe></div>"
            ]
          },
          "metadata": {}
        },
        {
          "output_type": "execute_result",
          "data": {
            "text/plain": []
          },
          "metadata": {},
          "execution_count": 22
        }
      ]
    }
  ]
}